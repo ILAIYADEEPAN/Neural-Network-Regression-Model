{
  "nbformat": 4,
  "nbformat_minor": 0,
  "metadata": {
    "colab": {
      "provenance": []
    },
    "kernelspec": {
      "name": "python3",
      "display_name": "Python 3"
    },
    "language_info": {
      "name": "python"
    }
  },
  "cells": [
    {
      "cell_type": "code",
      "source": [
        "import torch\n",
        "import torch.nn as nn\n",
        "import torch.optim as optim\n",
        "import pandas as pd\n",
        "from sklearn.model_selection import train_test_split\n",
        "from sklearn.preprocessing import MinMaxScaler\n",
        "\n",
        "dataset1 = pd.read_csv('data.csv')\n",
        "\n",
        "data = {'Input': range(100), 'Output': range(100)}\n",
        "df = pd.DataFrame(data)\n",
        "df.to_csv('data.csv', index=False)\n",
        "X = dataset1[['Input']].values\n",
        "y = dataset1[['Output']].values\n",
        "\n",
        "X_train, X_test, y_train, y_test = train_test_split(X, y, test_size=0.33, random_state=33)\n",
        "\n",
        "scaler = MinMaxScaler()\n",
        "X_train = scaler.fit_transform(X_train)\n",
        "X_test = scaler.transform(X_test)\n",
        "\n",
        "X_train_tensor = torch.tensor(X_train, dtype=torch.float32)\n",
        "y_train_tensor = torch.tensor(y_train, dtype=torch.float32).view(-1, 1)\n",
        "X_test_tensor = torch.tensor(X_test, dtype=torch.float32)\n",
        "y_test_tensor = torch.tensor(y_test, dtype=torch.float32).view(-1, 1)\n",
        "\n",
        "class NeuralNet(nn.Module):\n",
        "  def __init__(self):\n",
        "    super().__init__()\n",
        "    self.fc1 = nn.Linear(1, 8)\n",
        "    self.fc2 = nn.Linear(8, 10)\n",
        "    self.fc3 = nn.Linear(10, 1)\n",
        "    self.relu = nn.ReLU()\n",
        "    self.history = {'loss': []}\n",
        "\n",
        "  def forward(self, x):\n",
        "    x = self.relu(self.fc1(x))\n",
        "    x = self.relu(self.fc2(x))\n",
        "    x = self.fc3(x)\n",
        "    return x\n",
        "\n",
        "ai_brain = NeuralNet()\n",
        "criterion = nn.MSELoss()\n",
        "optimizer = optim.RMSprop(ai_brain.parameters(), lr=0.001)\n",
        "\n",
        "def train_model(ai_brain, X_train, y_train, criterion, optimizer, epochs=2000):\n",
        "  for epoch in range(epochs):\n",
        "    optimizer.zero_grad()\n",
        "\n",
        "    output = ai_brain(X_train)\n",
        "    loss = criterion(output, y_train)\n",
        "    loss.backward()\n",
        "    optimizer.step()\n",
        "\n",
        "    ai_brain.history['loss'].append(loss.item())\n",
        "    if epoch % 200 == 0:\n",
        "      print(f'Epoch [{epoch}/{epochs}], Loss: {loss.item():.6f}')\n",
        "\n",
        "train_model(ai_brain, X_train_tensor, y_train_tensor, criterion, optimizer)"
      ],
      "metadata": {
        "colab": {
          "base_uri": "https://localhost:8080/"
        },
        "id": "4pk-Jw9zlF-9",
        "outputId": "dedae441-cdf1-4cb7-d9b1-114b24e4b640"
      },
      "execution_count": null,
      "outputs": [
        {
          "output_type": "stream",
          "name": "stdout",
          "text": [
            "Epoch [0/2000], Loss: 13080.932617\n",
            "Epoch [200/2000], Loss: 10300.128906\n",
            "Epoch [400/2000], Loss: 6002.348633\n",
            "Epoch [600/2000], Loss: 2507.239258\n",
            "Epoch [800/2000], Loss: 1445.061890\n",
            "Epoch [1000/2000], Loss: 1188.538330\n",
            "Epoch [1200/2000], Loss: 857.140625\n",
            "Epoch [1400/2000], Loss: 513.883850\n",
            "Epoch [1600/2000], Loss: 216.689392\n",
            "Epoch [1800/2000], Loss: 44.402260\n"
          ]
        }
      ]
    },
    {
      "cell_type": "code",
      "source": [
        "with torch.no_grad():\n",
        "    test_loss = criterion(ai_brain(X_test_tensor), y_test_tensor)\n",
        "    print(f'Test Loss: {test_loss.item():.6f}')"
      ],
      "metadata": {
        "colab": {
          "base_uri": "https://localhost:8080/"
        },
        "id": "SLGbab_bmZqV",
        "outputId": "a7ef92db-bae0-43e2-85d3-c45961895064"
      },
      "execution_count": null,
      "outputs": [
        {
          "output_type": "stream",
          "name": "stdout",
          "text": [
            "Test Loss: 7.950893\n"
          ]
        }
      ]
    },
    {
      "cell_type": "code",
      "source": [
        "loss_df = pd.DataFrame(ai_brain.history)\n"
      ],
      "metadata": {
        "id": "xG4y-y2dmcdk"
      },
      "execution_count": null,
      "outputs": []
    },
    {
      "cell_type": "code",
      "source": [
        "import matplotlib.pyplot as plt\n",
        "loss_df.plot()\n",
        "plt.xlabel(\"Epochs\")\n",
        "plt.ylabel(\"Loss\")\n",
        "plt.title(\"Loss during Training\")\n",
        "plt.show()"
      ],
      "metadata": {
        "colab": {
          "base_uri": "https://localhost:8080/",
          "height": 472
        },
        "id": "kcNQ6eU6meuO",
        "outputId": "56d5d1fe-e04a-4bde-9642-07d2479c7462"
      },
      "execution_count": null,
      "outputs": [
        {
          "output_type": "display_data",
          "data": {
            "text/plain": [
              "<Figure size 640x480 with 1 Axes>"
            ],
            "image/png": "[encoded data removed]"
          },
          "metadata": {}
        }
      ]
    },
    {
      "cell_type": "code",
      "source": [
        "X_n1_1 = torch.tensor([[9]], dtype=torch.float32)\n",
        "prediction = ai_brain(torch.tensor(scaler.transform(X_n1_1), dtype=torch.float32)).item()\n",
        "print(f'Prediction: {prediction}')"
      ],
      "metadata": {
        "colab": {
          "base_uri": "https://localhost:8080/"
        },
        "id": "_3Q5_zimmgY0",
        "outputId": "858d3d0d-5716-451d-d4b9-78d45a566333"
      },
      "execution_count": null,
      "outputs": [
        {
          "output_type": "stream",
          "name": "stdout",
          "text": [
            "Prediction: 91.30337524414062\n"
          ]
        }
      ]
    },
    {
      "cell_type": "code",
      "source": [
        "X_n2_2 = torch.tensor([[10]], dtype=torch.float32)\n",
        "prediction = ai_brain(torch.tensor(scaler.transform(X_n1_1), dtype=torch.float32)).item()\n",
        "print(f'Prediction: {prediction}')"
      ],
      "metadata": {
        "colab": {
          "base_uri": "https://localhost:8080/"
        },
        "id": "z0SwGy3bmlpA",
        "outputId": "d1edca4a-642f-4af0-caee-81065867ed73"
      },
      "execution_count": null,
      "outputs": [
        {
          "output_type": "stream",
          "name": "stdout",
          "text": [
            "Prediction: 91.30337524414062\n"
          ]
        }
      ]
    }
  ]
}